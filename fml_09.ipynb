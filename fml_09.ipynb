{
 "cells": [
  {
   "cell_type": "markdown",
   "id": "30b61190-61c1-4dd2-a9ec-acbadc8a52ef",
   "metadata": {
    "tags": []
   },
   "source": [
    "# Fundamentals of Machine Learning - Exercise 9\n",
    "Goal of this excercise is to complete the hands-on experience of the classification task.\n",
    "\n",
    "## Household Prices Dataset\n",
    "https://www.kaggle.com/c/house-prices-advanced-regression-techniques/data\n",
    "\n",
    "* ... I bet that you already know the data pretty well 😅\n",
    "\n",
    "![meme03](https://github.com/rasvob/VSB-FEI-Fundamentals-of-Machine-Learning-Exercises/blob/master/images/fml_09_meme_03.jpg?raw=true)\n",
    "\n",
    "**Important attributes description:**\n",
    "* SalePrice: The property's sale price in dollars. This is the target variable that you're trying to predict.\n",
    "* MSSubClass: The building class\n",
    "* BldgType: Type of dwelling\n",
    "* HouseStyle: Style of dwelling\n",
    "* OverallQual: Overall material and finish quality\n",
    "* OverallCond: Overall condition rating\n",
    "* YearBuilt: Original construction date\n",
    "* Heating: Type of heating\n",
    "* CentralAir: Central air conditioning\n",
    "* GrLivArea: Above grade (ground) living area square feet\n",
    "* BedroomAbvGr: Number of bedrooms above basement level)\n",
    "\n"
   ]
  },
  {
   "cell_type": "code",
   "id": "a70c5553-ad01-4d43-93fb-50c085f09a64",
   "metadata": {
    "ExecuteTime": {
     "end_time": "2024-11-26T13:48:10.971016Z",
     "start_time": "2024-11-26T13:48:10.613409Z"
    }
   },
   "source": [
    "import numpy as np\n",
    "import pandas as pd\n",
    "import seaborn as sns\n",
    "import matplotlib.pyplot as plt\n",
    "import math\n",
    "\n",
    "from sklearn.tree import DecisionTreeClassifier\n",
    "from sklearn.model_selection import train_test_split, StratifiedKFold, KFold, cross_val_score\n",
    "from sklearn.ensemble import RandomForestClassifier\n",
    "from sklearn.metrics import accuracy_score, f1_score, recall_score, precision_score, confusion_matrix, auc\n",
    "from sklearn.preprocessing import OrdinalEncoder"
   ],
   "outputs": [],
   "execution_count": 2
  },
  {
   "cell_type": "markdown",
   "id": "91919c63-d578-4f60-ab66-6b319e4d8aee",
   "metadata": {},
   "source": [
    "# 🎯 Our goal is to predict if the house will be sold for more than 250k USD or not\n",
    "* We will use categorized price as a **Target** variable"
   ]
  },
  {
   "cell_type": "code",
   "id": "9c04fdf9-7fbf-48ac-ba7a-a8c748b16703",
   "metadata": {
    "ExecuteTime": {
     "end_time": "2024-11-26T13:48:15.333634Z",
     "start_time": "2024-11-26T13:48:14.228141Z"
    }
   },
   "source": [
    "df = pd.read_csv('https://raw.githubusercontent.com/rasvob/VSB-FEI-Fundamentals-of-Machine-Learning-Exercises/master/datasets/zsu_cv1_data.csv', sep=',')\n",
    "df = df.loc[:, ['SalePrice','MSSubClass','BldgType','HouseStyle','OverallQual','OverallCond','YearBuilt','Heating','CentralAir','GrLivArea','BedroomAbvGr']]\n",
    "df.loc[:, ['Target']] = (df.SalePrice > 250000).astype(int)\n",
    "df = df.drop(['SalePrice'], axis=1)"
   ],
   "outputs": [],
   "execution_count": 3
  },
  {
   "cell_type": "code",
   "id": "f24a55f9-b2c2-4815-a0b5-ceb261895856",
   "metadata": {
    "ExecuteTime": {
     "end_time": "2024-11-26T13:48:16.753018Z",
     "start_time": "2024-11-26T13:48:16.738134Z"
    }
   },
   "source": [
    "df.head()"
   ],
   "outputs": [
    {
     "data": {
      "text/plain": [
       "   MSSubClass BldgType HouseStyle  OverallQual  OverallCond  YearBuilt  \\\n",
       "0          60     1Fam     2Story            7            5       2003   \n",
       "1          20     1Fam     1Story            6            8       1976   \n",
       "2          60     1Fam     2Story            7            5       2001   \n",
       "3          70     1Fam     2Story            7            5       1915   \n",
       "4          60     1Fam     2Story            8            5       2000   \n",
       "\n",
       "  Heating CentralAir  GrLivArea  BedroomAbvGr  Target  \n",
       "0    GasA          Y       1710             3       0  \n",
       "1    GasA          Y       1262             3       0  \n",
       "2    GasA          Y       1786             3       0  \n",
       "3    GasA          Y       1717             3       0  \n",
       "4    GasA          Y       2198             4       0  "
      ],
      "text/html": [
       "<div>\n",
       "<style scoped>\n",
       "    .dataframe tbody tr th:only-of-type {\n",
       "        vertical-align: middle;\n",
       "    }\n",
       "\n",
       "    .dataframe tbody tr th {\n",
       "        vertical-align: top;\n",
       "    }\n",
       "\n",
       "    .dataframe thead th {\n",
       "        text-align: right;\n",
       "    }\n",
       "</style>\n",
       "<table border=\"1\" class=\"dataframe\">\n",
       "  <thead>\n",
       "    <tr style=\"text-align: right;\">\n",
       "      <th></th>\n",
       "      <th>MSSubClass</th>\n",
       "      <th>BldgType</th>\n",
       "      <th>HouseStyle</th>\n",
       "      <th>OverallQual</th>\n",
       "      <th>OverallCond</th>\n",
       "      <th>YearBuilt</th>\n",
       "      <th>Heating</th>\n",
       "      <th>CentralAir</th>\n",
       "      <th>GrLivArea</th>\n",
       "      <th>BedroomAbvGr</th>\n",
       "      <th>Target</th>\n",
       "    </tr>\n",
       "  </thead>\n",
       "  <tbody>\n",
       "    <tr>\n",
       "      <th>0</th>\n",
       "      <td>60</td>\n",
       "      <td>1Fam</td>\n",
       "      <td>2Story</td>\n",
       "      <td>7</td>\n",
       "      <td>5</td>\n",
       "      <td>2003</td>\n",
       "      <td>GasA</td>\n",
       "      <td>Y</td>\n",
       "      <td>1710</td>\n",
       "      <td>3</td>\n",
       "      <td>0</td>\n",
       "    </tr>\n",
       "    <tr>\n",
       "      <th>1</th>\n",
       "      <td>20</td>\n",
       "      <td>1Fam</td>\n",
       "      <td>1Story</td>\n",
       "      <td>6</td>\n",
       "      <td>8</td>\n",
       "      <td>1976</td>\n",
       "      <td>GasA</td>\n",
       "      <td>Y</td>\n",
       "      <td>1262</td>\n",
       "      <td>3</td>\n",
       "      <td>0</td>\n",
       "    </tr>\n",
       "    <tr>\n",
       "      <th>2</th>\n",
       "      <td>60</td>\n",
       "      <td>1Fam</td>\n",
       "      <td>2Story</td>\n",
       "      <td>7</td>\n",
       "      <td>5</td>\n",
       "      <td>2001</td>\n",
       "      <td>GasA</td>\n",
       "      <td>Y</td>\n",
       "      <td>1786</td>\n",
       "      <td>3</td>\n",
       "      <td>0</td>\n",
       "    </tr>\n",
       "    <tr>\n",
       "      <th>3</th>\n",
       "      <td>70</td>\n",
       "      <td>1Fam</td>\n",
       "      <td>2Story</td>\n",
       "      <td>7</td>\n",
       "      <td>5</td>\n",
       "      <td>1915</td>\n",
       "      <td>GasA</td>\n",
       "      <td>Y</td>\n",
       "      <td>1717</td>\n",
       "      <td>3</td>\n",
       "      <td>0</td>\n",
       "    </tr>\n",
       "    <tr>\n",
       "      <th>4</th>\n",
       "      <td>60</td>\n",
       "      <td>1Fam</td>\n",
       "      <td>2Story</td>\n",
       "      <td>8</td>\n",
       "      <td>5</td>\n",
       "      <td>2000</td>\n",
       "      <td>GasA</td>\n",
       "      <td>Y</td>\n",
       "      <td>2198</td>\n",
       "      <td>4</td>\n",
       "      <td>0</td>\n",
       "    </tr>\n",
       "  </tbody>\n",
       "</table>\n",
       "</div>"
      ]
     },
     "execution_count": 4,
     "metadata": {},
     "output_type": "execute_result"
    }
   ],
   "execution_count": 4
  },
  {
   "cell_type": "markdown",
   "id": "f284c232-b4e3-40fc-b502-a3f27c4b67ba",
   "metadata": {},
   "source": [
    "# Take a look at the features\n",
    "* We will need it to answer the questions"
   ]
  },
  {
   "cell_type": "code",
   "id": "1c6ba193-7e2c-4e4b-9bf8-cf75e5689c36",
   "metadata": {
    "ExecuteTime": {
     "end_time": "2024-11-21T18:36:20.580077Z",
     "start_time": "2024-11-21T18:36:20.556247Z"
    }
   },
   "source": [
    "df.describe()"
   ],
   "outputs": [
    {
     "data": {
      "text/plain": [
       "        MSSubClass  OverallQual  OverallCond    YearBuilt    GrLivArea  \\\n",
       "count  1460.000000  1460.000000  1460.000000  1460.000000  1460.000000   \n",
       "mean     56.897260     6.099315     5.575342  1971.267808  1515.463699   \n",
       "std      42.300571     1.382997     1.112799    30.202904   525.480383   \n",
       "min      20.000000     1.000000     1.000000  1872.000000   334.000000   \n",
       "25%      20.000000     5.000000     5.000000  1954.000000  1129.500000   \n",
       "50%      50.000000     6.000000     5.000000  1973.000000  1464.000000   \n",
       "75%      70.000000     7.000000     6.000000  2000.000000  1776.750000   \n",
       "max     190.000000    10.000000     9.000000  2010.000000  5642.000000   \n",
       "\n",
       "       BedroomAbvGr       Target  \n",
       "count   1460.000000  1460.000000  \n",
       "mean       2.866438     0.148630  \n",
       "std        0.815778     0.355845  \n",
       "min        0.000000     0.000000  \n",
       "25%        2.000000     0.000000  \n",
       "50%        3.000000     0.000000  \n",
       "75%        3.000000     0.000000  \n",
       "max        8.000000     1.000000  "
      ],
      "text/html": [
       "<div>\n",
       "<style scoped>\n",
       "    .dataframe tbody tr th:only-of-type {\n",
       "        vertical-align: middle;\n",
       "    }\n",
       "\n",
       "    .dataframe tbody tr th {\n",
       "        vertical-align: top;\n",
       "    }\n",
       "\n",
       "    .dataframe thead th {\n",
       "        text-align: right;\n",
       "    }\n",
       "</style>\n",
       "<table border=\"1\" class=\"dataframe\">\n",
       "  <thead>\n",
       "    <tr style=\"text-align: right;\">\n",
       "      <th></th>\n",
       "      <th>MSSubClass</th>\n",
       "      <th>OverallQual</th>\n",
       "      <th>OverallCond</th>\n",
       "      <th>YearBuilt</th>\n",
       "      <th>GrLivArea</th>\n",
       "      <th>BedroomAbvGr</th>\n",
       "      <th>Target</th>\n",
       "    </tr>\n",
       "  </thead>\n",
       "  <tbody>\n",
       "    <tr>\n",
       "      <th>count</th>\n",
       "      <td>1460.000000</td>\n",
       "      <td>1460.000000</td>\n",
       "      <td>1460.000000</td>\n",
       "      <td>1460.000000</td>\n",
       "      <td>1460.000000</td>\n",
       "      <td>1460.000000</td>\n",
       "      <td>1460.000000</td>\n",
       "    </tr>\n",
       "    <tr>\n",
       "      <th>mean</th>\n",
       "      <td>56.897260</td>\n",
       "      <td>6.099315</td>\n",
       "      <td>5.575342</td>\n",
       "      <td>1971.267808</td>\n",
       "      <td>1515.463699</td>\n",
       "      <td>2.866438</td>\n",
       "      <td>0.148630</td>\n",
       "    </tr>\n",
       "    <tr>\n",
       "      <th>std</th>\n",
       "      <td>42.300571</td>\n",
       "      <td>1.382997</td>\n",
       "      <td>1.112799</td>\n",
       "      <td>30.202904</td>\n",
       "      <td>525.480383</td>\n",
       "      <td>0.815778</td>\n",
       "      <td>0.355845</td>\n",
       "    </tr>\n",
       "    <tr>\n",
       "      <th>min</th>\n",
       "      <td>20.000000</td>\n",
       "      <td>1.000000</td>\n",
       "      <td>1.000000</td>\n",
       "      <td>1872.000000</td>\n",
       "      <td>334.000000</td>\n",
       "      <td>0.000000</td>\n",
       "      <td>0.000000</td>\n",
       "    </tr>\n",
       "    <tr>\n",
       "      <th>25%</th>\n",
       "      <td>20.000000</td>\n",
       "      <td>5.000000</td>\n",
       "      <td>5.000000</td>\n",
       "      <td>1954.000000</td>\n",
       "      <td>1129.500000</td>\n",
       "      <td>2.000000</td>\n",
       "      <td>0.000000</td>\n",
       "    </tr>\n",
       "    <tr>\n",
       "      <th>50%</th>\n",
       "      <td>50.000000</td>\n",
       "      <td>6.000000</td>\n",
       "      <td>5.000000</td>\n",
       "      <td>1973.000000</td>\n",
       "      <td>1464.000000</td>\n",
       "      <td>3.000000</td>\n",
       "      <td>0.000000</td>\n",
       "    </tr>\n",
       "    <tr>\n",
       "      <th>75%</th>\n",
       "      <td>70.000000</td>\n",
       "      <td>7.000000</td>\n",
       "      <td>6.000000</td>\n",
       "      <td>2000.000000</td>\n",
       "      <td>1776.750000</td>\n",
       "      <td>3.000000</td>\n",
       "      <td>0.000000</td>\n",
       "    </tr>\n",
       "    <tr>\n",
       "      <th>max</th>\n",
       "      <td>190.000000</td>\n",
       "      <td>10.000000</td>\n",
       "      <td>9.000000</td>\n",
       "      <td>2010.000000</td>\n",
       "      <td>5642.000000</td>\n",
       "      <td>8.000000</td>\n",
       "      <td>1.000000</td>\n",
       "    </tr>\n",
       "  </tbody>\n",
       "</table>\n",
       "</div>"
      ]
     },
     "execution_count": 4,
     "metadata": {},
     "output_type": "execute_result"
    }
   ],
   "execution_count": 4
  },
  {
   "cell_type": "markdown",
   "id": "98035a5b-ce62-488d-86a7-a23389543931",
   "metadata": {},
   "source": [
    "## Categorial features EDA"
   ]
  },
  {
   "cell_type": "code",
   "id": "015a2cf3-4dde-4722-97b9-0217e60cda00",
   "metadata": {
    "scrolled": true,
    "ExecuteTime": {
     "end_time": "2024-11-21T18:36:22.427950Z",
     "start_time": "2024-11-21T18:36:22.411600Z"
    }
   },
   "source": [
    "df.describe(exclude=np.number)"
   ],
   "outputs": [
    {
     "data": {
      "text/plain": [
       "       BldgType HouseStyle Heating CentralAir\n",
       "count      1460       1460    1460       1460\n",
       "unique        5          8       6          2\n",
       "top        1Fam     1Story    GasA          Y\n",
       "freq       1220        726    1428       1365"
      ],
      "text/html": [
       "<div>\n",
       "<style scoped>\n",
       "    .dataframe tbody tr th:only-of-type {\n",
       "        vertical-align: middle;\n",
       "    }\n",
       "\n",
       "    .dataframe tbody tr th {\n",
       "        vertical-align: top;\n",
       "    }\n",
       "\n",
       "    .dataframe thead th {\n",
       "        text-align: right;\n",
       "    }\n",
       "</style>\n",
       "<table border=\"1\" class=\"dataframe\">\n",
       "  <thead>\n",
       "    <tr style=\"text-align: right;\">\n",
       "      <th></th>\n",
       "      <th>BldgType</th>\n",
       "      <th>HouseStyle</th>\n",
       "      <th>Heating</th>\n",
       "      <th>CentralAir</th>\n",
       "    </tr>\n",
       "  </thead>\n",
       "  <tbody>\n",
       "    <tr>\n",
       "      <th>count</th>\n",
       "      <td>1460</td>\n",
       "      <td>1460</td>\n",
       "      <td>1460</td>\n",
       "      <td>1460</td>\n",
       "    </tr>\n",
       "    <tr>\n",
       "      <th>unique</th>\n",
       "      <td>5</td>\n",
       "      <td>8</td>\n",
       "      <td>6</td>\n",
       "      <td>2</td>\n",
       "    </tr>\n",
       "    <tr>\n",
       "      <th>top</th>\n",
       "      <td>1Fam</td>\n",
       "      <td>1Story</td>\n",
       "      <td>GasA</td>\n",
       "      <td>Y</td>\n",
       "    </tr>\n",
       "    <tr>\n",
       "      <th>freq</th>\n",
       "      <td>1220</td>\n",
       "      <td>726</td>\n",
       "      <td>1428</td>\n",
       "      <td>1365</td>\n",
       "    </tr>\n",
       "  </tbody>\n",
       "</table>\n",
       "</div>"
      ]
     },
     "execution_count": 5,
     "metadata": {},
     "output_type": "execute_result"
    }
   ],
   "execution_count": 5
  },
  {
   "cell_type": "markdown",
   "id": "8ba6c3c9-b611-4780-9cb3-52a65b7c73fb",
   "metadata": {},
   "source": [
    "### BldgType"
   ]
  },
  {
   "cell_type": "code",
   "id": "6860381b-0926-4d63-a3ce-9c2592928469",
   "metadata": {
    "ExecuteTime": {
     "end_time": "2024-11-21T18:36:24.103366Z",
     "start_time": "2024-11-21T18:36:24.094666Z"
    }
   },
   "source": [
    "df.BldgType.value_counts()"
   ],
   "outputs": [
    {
     "data": {
      "text/plain": [
       "BldgType\n",
       "1Fam      1220\n",
       "TwnhsE     114\n",
       "Duplex      52\n",
       "Twnhs       43\n",
       "2fmCon      31\n",
       "Name: count, dtype: int64"
      ]
     },
     "execution_count": 6,
     "metadata": {},
     "output_type": "execute_result"
    }
   ],
   "execution_count": 6
  },
  {
   "cell_type": "markdown",
   "id": "2b8304d9-d611-47c4-a598-56f106588df6",
   "metadata": {},
   "source": [
    "### HouseStyle"
   ]
  },
  {
   "cell_type": "code",
   "id": "d1904d3d-de59-45e1-90c5-3ce14c3a9824",
   "metadata": {
    "ExecuteTime": {
     "end_time": "2024-11-21T18:36:25.825730Z",
     "start_time": "2024-11-21T18:36:25.816471Z"
    }
   },
   "source": [
    "df.HouseStyle.value_counts()"
   ],
   "outputs": [
    {
     "data": {
      "text/plain": [
       "HouseStyle\n",
       "1Story    726\n",
       "2Story    445\n",
       "1.5Fin    154\n",
       "SLvl       65\n",
       "SFoyer     37\n",
       "1.5Unf     14\n",
       "2.5Unf     11\n",
       "2.5Fin      8\n",
       "Name: count, dtype: int64"
      ]
     },
     "execution_count": 7,
     "metadata": {},
     "output_type": "execute_result"
    }
   ],
   "execution_count": 7
  },
  {
   "cell_type": "markdown",
   "id": "23d7d6b7-648e-413c-8126-05e3ed5d293e",
   "metadata": {},
   "source": [
    "### Heating"
   ]
  },
  {
   "cell_type": "code",
   "id": "5f6cd161-b886-43ae-ae9f-7eeae1112c96",
   "metadata": {
    "ExecuteTime": {
     "end_time": "2024-11-21T18:36:27.288390Z",
     "start_time": "2024-11-21T18:36:27.277777Z"
    }
   },
   "source": [
    "df.Heating.value_counts()"
   ],
   "outputs": [
    {
     "data": {
      "text/plain": [
       "Heating\n",
       "GasA     1428\n",
       "GasW       18\n",
       "Grav        7\n",
       "Wall        4\n",
       "OthW        2\n",
       "Floor       1\n",
       "Name: count, dtype: int64"
      ]
     },
     "execution_count": 8,
     "metadata": {},
     "output_type": "execute_result"
    }
   ],
   "execution_count": 8
  },
  {
   "cell_type": "markdown",
   "id": "cf3f4b2e-b43e-4dc6-8968-f904ed1a6b91",
   "metadata": {},
   "source": [
    "## Missing values"
   ]
  },
  {
   "cell_type": "code",
   "id": "9e772318-7b63-4a5f-95d5-c6979a4713ee",
   "metadata": {
    "ExecuteTime": {
     "end_time": "2024-11-21T18:36:28.750913Z",
     "start_time": "2024-11-21T18:36:28.741132Z"
    }
   },
   "source": [
    "df.isna().sum()"
   ],
   "outputs": [
    {
     "data": {
      "text/plain": [
       "MSSubClass      0\n",
       "BldgType        0\n",
       "HouseStyle      0\n",
       "OverallQual     0\n",
       "OverallCond     0\n",
       "YearBuilt       0\n",
       "Heating         0\n",
       "CentralAir      0\n",
       "GrLivArea       0\n",
       "BedroomAbvGr    0\n",
       "Target          0\n",
       "dtype: int64"
      ]
     },
     "execution_count": 9,
     "metadata": {},
     "output_type": "execute_result"
    }
   ],
   "execution_count": 9
  },
  {
   "cell_type": "markdown",
   "id": "cde8b9e4-a044-40e6-9747-5640b77d9083",
   "metadata": {},
   "source": [
    "## Labels distribution"
   ]
  },
  {
   "cell_type": "code",
   "id": "bdd99d8e-079f-44f8-bd94-514c3f63c6f4",
   "metadata": {
    "ExecuteTime": {
     "end_time": "2024-11-21T18:36:30.463650Z",
     "start_time": "2024-11-21T18:36:30.454532Z"
    }
   },
   "source": [
    "df.Target.value_counts()"
   ],
   "outputs": [
    {
     "data": {
      "text/plain": [
       "Target\n",
       "0    1243\n",
       "1     217\n",
       "Name: count, dtype: int64"
      ]
     },
     "execution_count": 10,
     "metadata": {},
     "output_type": "execute_result"
    }
   ],
   "execution_count": 10
  },
  {
   "cell_type": "markdown",
   "id": "3782fb16-bb52-461c-a415-5f13f22aa1f0",
   "metadata": {},
   "source": [
    "# ✅ Task (2p)\n",
    "Complete the following tasks:\n",
    "\n",
    "1. 📈 Describe what operations you are performing for each of the features\n",
    "    * Mainly focus on categorical features\n",
    "      \n",
    "2. 📌 Answer the following questions:\n",
    "    * **How many values are missing?**\n",
    "    * **How many instances do you have in each of the classes?**\n",
    "    * 🔎 **Which metric score do you propose for the classification model performance evaluation?**\n",
    "        * 💡 This depends on your previous answer\n",
    "          \n",
    "3. ⚡Finish your preprocessing pipeline and split the data into the Input and Output part (i.e. `X` and `y` variables)\n",
    "\n",
    "4. 🌳 Start with the **Decision Tree**\n",
    "    * Use 5-fold cross validation\n",
    "    * 🔎 Will you use *standard* cross validation or *stratified* cross validation?\n",
    "    * Compute mean of the obtained score values\n",
    "      \n",
    "5. 🚀 Select one other algorithm from https://scikit-learn.org/stable/supervised_learning.html\n",
    "    * Repeat the 5-fold CV\n",
    "      \n",
    "6. 📒 **Write down which default model is better**\n",
    "\n",
    "7. 📊 Experiment with hyper-parameters\n",
    "    * Select at least one important parameter for the model \n",
    "    * Set the parameter value range\n",
    "        * You can use random values, interval of values, ... \n",
    "    * Do the 5-fold CV\n",
    "        * Compute mean of the obtained score values\n",
    "    * Document the experiment results using tables and/or plots\n",
    "    * Describe the results in a Markdown cell\n",
    "\n",
    "8. 📒 **Write down which model (default or tuned) is the best and why**\n",
    "\n",
    "* **Document everything you do in a Markdown cells**\n",
    "    * ❌ Results interpretation figured in real-time during task check is not allowed! ❌\n",
    "\n",
    "![meme01](https://github.com/rasvob/VSB-FEI-Fundamentals-of-Machine-Learning-Exercises/blob/master/images/fml_09_meme_01.jpg?raw=true)"
   ]
  },
  {
   "metadata": {},
   "cell_type": "markdown",
   "source": [
    " 1. Categorical features operations:\n",
    "    * BldgType, HouseStyle, Heating, CentralAir - these features are categorical and will be encoded using OrdinalEncoder to convert them into numerical values for model training.\n",
    " 2. Missing values: \n",
    "    * There are no missing values in the dataset.\n",
    "    \n",
    "    Instances in each class:\n",
    "    * Class 0: 1243 instances.\n",
    "    * Class 1: 217 instances.     \n",
    "                \n",
    "    Metric score for the classification model performance evaluation:\n",
    "    * Since the dataset is imbalanced, F1 score will be used as the evaluation metric."
   ],
   "id": "43b20abb6eccbd62"
  },
  {
   "metadata": {},
   "cell_type": "markdown",
   "source": "## 3. Preprocessing pipeline and splitting the data into the Input and Output part",
   "id": "493abde17edc8f4b"
  },
  {
   "metadata": {
    "ExecuteTime": {
     "end_time": "2024-11-21T18:40:57.906374Z",
     "start_time": "2024-11-21T18:40:57.894748Z"
    }
   },
   "cell_type": "code",
   "source": [
    "categorical_features = ['BldgType','HouseStyle','Heating','CentralAir']\n",
    "encoder = OrdinalEncoder()\n",
    "df[categorical_features] = encoder.fit_transform(df[categorical_features])\n",
    "\n",
    "X = df.drop(['Target'], axis=1)\n",
    "y = df.Target"
   ],
   "id": "c797764651741a0b",
   "outputs": [],
   "execution_count": 11
  },
  {
   "metadata": {},
   "cell_type": "markdown",
   "source": [
    "## 4. Decision Tree\n",
    "I will use a stratified cross validation to ensure each fold has a similar distribution of the target classes."
   ],
   "id": "3f7d5c433f9a5781"
  },
  {
   "metadata": {
    "ExecuteTime": {
     "end_time": "2024-11-21T18:43:07.709402Z",
     "start_time": "2024-11-21T18:43:07.670403Z"
    }
   },
   "cell_type": "code",
   "source": [
    "dt_classifier = DecisionTreeClassifier()\n",
    "\n",
    "skf = StratifiedKFold(n_splits=5)\n",
    "scores = cross_val_score(dt_classifier, X, y, cv=skf, scoring='accuracy')\n",
    "\n",
    "mean_f1_score = scores.mean()\n",
    "print(f'Mean F1 score for Decision Tree: {mean_f1_score}')"
   ],
   "id": "43d8e9a27de2559",
   "outputs": [
    {
     "name": "stdout",
     "output_type": "stream",
     "text": [
      "Mean F1 score for Decision Tree: 0.9082191780821918\n"
     ]
    }
   ],
   "execution_count": 14
  },
  {
   "metadata": {},
   "cell_type": "markdown",
   "source": [
    "## 5. Select an algorithm\n",
    "I will use Random Forest Classifier as the second algorithm."
   ],
   "id": "48480d3a0c493027"
  },
  {
   "metadata": {
    "ExecuteTime": {
     "end_time": "2024-11-21T18:43:53.804103Z",
     "start_time": "2024-11-21T18:43:52.929955Z"
    }
   },
   "cell_type": "code",
   "source": [
    "rf_classifier = RandomForestClassifier()\n",
    "\n",
    "rf_scores = cross_val_score(rf_classifier, X, y, cv=skf, scoring='f1')\n",
    "\n",
    "mean_rf_f1_score = rf_scores.mean()\n",
    "print(f'Mean F1 score for Random Forest: {mean_rf_f1_score}')"
   ],
   "id": "6745c233ec77edd8",
   "outputs": [
    {
     "name": "stdout",
     "output_type": "stream",
     "text": [
      "Mean F1 score for Random Forest: 0.7568411501538197\n"
     ]
    }
   ],
   "execution_count": 15
  },
  {
   "metadata": {},
   "cell_type": "markdown",
   "source": [
    "## 6. Default model comparison\n",
    "Decision Tree Classifier has a higher F1 score than Random Forest Classifier."
   ],
   "id": "85d438d2e5cc83ad"
  },
  {
   "metadata": {},
   "cell_type": "markdown",
   "source": "## 7. Hyper-parameters tuning",
   "id": "910ced500ee042ee"
  },
  {
   "metadata": {
    "ExecuteTime": {
     "end_time": "2024-11-21T19:00:40.883027Z",
     "start_time": "2024-11-21T19:00:29.557469Z"
    }
   },
   "cell_type": "code",
   "source": [
    "from sklearn.model_selection import GridSearchCV\n",
    "\n",
    "# Define the parameter grid for Random Forest\n",
    "param_grid = {\n",
    "    'n_estimators': [50, 100, 200],\n",
    "    'max_depth': [None, 10, 20, 30]\n",
    "}\n",
    "\n",
    "# Initialize GridSearchCV\n",
    "grid_search = GridSearchCV(rf_classifier, param_grid, cv=skf, scoring='f1')\n",
    "grid_search.fit(X, y)\n",
    "\n",
    "# Get the best parameters and the best score\n",
    "best_params = grid_search.best_params_\n",
    "best_score = grid_search.best_score_\n",
    "\n",
    "print(f'Best Parameters: {best_params}')\n",
    "print(f'Best F1 Score: {best_score}')"
   ],
   "id": "62b7bfea2ee85602",
   "outputs": [
    {
     "name": "stdout",
     "output_type": "stream",
     "text": [
      "Best Parameters: {'max_depth': 10, 'n_estimators': 100}\n",
      "Best F1 Score: 0.7797316978541797\n"
     ]
    }
   ],
   "execution_count": 16
  },
  {
   "metadata": {},
   "cell_type": "markdown",
   "source": "### Document the experiment results using tables and/or plots",
   "id": "94a43cb0539dee0c"
  },
  {
   "metadata": {
    "ExecuteTime": {
     "end_time": "2024-11-21T19:12:20.357424Z",
     "start_time": "2024-11-21T19:12:20.074059Z"
    }
   },
   "cell_type": "code",
   "source": [
    "results = pd.DataFrame(grid_search.cv_results_)\n",
    "\n",
    "print(results[['param_n_estimators', 'param_max_depth', 'mean_test_score']].sort_values(by='mean_test_score', ascending=False).head())\n",
    "\n",
    "# Plot the results\n",
    "plt.figure(figsize=(12, 6))\n",
    "sns.scatterplot(data=results, x='param_n_estimators', y='mean_test_score', hue='param_max_depth', palette='viridis')\n",
    "plt.title('Grid Search Results')\n",
    "plt.xlabel('Number of Estimators')\n",
    "plt.ylabel('Mean F1 Score')\n",
    "plt.show()"
   ],
   "id": "ba42d3b6ba553aa",
   "outputs": [
    {
     "name": "stdout",
     "output_type": "stream",
     "text": [
      "    param_n_estimators param_max_depth  mean_test_score\n",
      "4                  100              10         0.779732\n",
      "8                  200              20         0.768133\n",
      "5                  200              10         0.767009\n",
      "0                   50            None         0.764070\n",
      "10                 100              30         0.762448\n"
     ]
    },
    {
     "data": {
      "text/plain": [
       "<Figure size 1200x600 with 1 Axes>"
      ],
      "image/png": "[encoded data removed]"
     },
     "metadata": {},
     "output_type": "display_data"
    }
   ],
   "execution_count": 17
  },
  {
   "metadata": {},
   "cell_type": "markdown",
   "source": [
    "## 8. Best model selection\n",
    "The tuned Random Forest Classifier is better than the default model. The best parameters for the Random Forest Classifier are: F1 - `0.7568411501538197` and for tuned is `0.7797316978541797`.\n"
   ],
   "id": "5643dfb55311594d"
  },
  {
   "metadata": {},
   "cell_type": "code",
   "outputs": [],
   "execution_count": null,
   "source": "",
   "id": "a22fc2a007a0c424"
  }
 ],
 "metadata": {
  "kernelspec": {
   "display_name": "Python 3 (ipykernel)",
   "language": "python",
   "name": "python3"
  },
  "language_info": {
   "codemirror_mode": {
    "name": "ipython",
    "version": 3
   },
   "file_extension": ".py",
   "mimetype": "text/x-python",
   "name": "python",
   "nbconvert_exporter": "python",
   "pygments_lexer": "ipython3",
   "version": "3.12.0"
  }
 },
 "nbformat": 4,
 "nbformat_minor": 5
}
